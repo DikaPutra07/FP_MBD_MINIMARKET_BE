{
 "cells": [
  {
   "cell_type": "code",
   "execution_count": 1,
   "metadata": {},
   "outputs": [],
   "source": [
    "import pandas as pd\n"
   ]
  },
  {
   "cell_type": "code",
   "execution_count": 2,
   "metadata": {},
   "outputs": [
    {
     "name": "stderr",
     "output_type": "stream",
     "text": [
      "/var/folders/9c/67cc_3jj62d2ds4cnt_766t80000gn/T/ipykernel_7786/3266408272.py:1: DtypeWarning: Columns (4) have mixed types. Specify dtype option on import or set low_memory=False.\n",
      "  data = pd.read_csv('WMT_Grocery_202209.csv')\n"
     ]
    }
   ],
   "source": [
    "data = pd.read_csv('WMT_Grocery_202209.csv')"
   ]
  },
  {
   "cell_type": "code",
   "execution_count": 3,
   "metadata": {},
   "outputs": [],
   "source": [
    "data = data[[\"index\", \"CATEGORY\", \"PRODUCT_NAME\", \"PRICE_CURRENT\", \"PRODUCT_SIZE\"]][:1000]"
   ]
  },
  {
   "cell_type": "code",
   "execution_count": 4,
   "metadata": {},
   "outputs": [
    {
     "data": {
      "text/html": [
       "<div>\n",
       "<style scoped>\n",
       "    .dataframe tbody tr th:only-of-type {\n",
       "        vertical-align: middle;\n",
       "    }\n",
       "\n",
       "    .dataframe tbody tr th {\n",
       "        vertical-align: top;\n",
       "    }\n",
       "\n",
       "    .dataframe thead th {\n",
       "        text-align: right;\n",
       "    }\n",
       "</style>\n",
       "<table border=\"1\" class=\"dataframe\">\n",
       "  <thead>\n",
       "    <tr style=\"text-align: right;\">\n",
       "      <th></th>\n",
       "      <th>index</th>\n",
       "      <th>CATEGORY</th>\n",
       "      <th>PRODUCT_NAME</th>\n",
       "      <th>PRICE_CURRENT</th>\n",
       "      <th>PRODUCT_SIZE</th>\n",
       "    </tr>\n",
       "  </thead>\n",
       "  <tbody>\n",
       "    <tr>\n",
       "      <th>0</th>\n",
       "      <td>0</td>\n",
       "      <td>Hummus, Dips, &amp; Salsa</td>\n",
       "      <td>Marketside Roasted Red Pepper Hummus, 10 Oz</td>\n",
       "      <td>2.67</td>\n",
       "      <td>10</td>\n",
       "    </tr>\n",
       "    <tr>\n",
       "      <th>1</th>\n",
       "      <td>1</td>\n",
       "      <td>Hummus, Dips, &amp; Salsa</td>\n",
       "      <td>Marketside Roasted Garlic Hummus, 10 Oz</td>\n",
       "      <td>2.67</td>\n",
       "      <td>10</td>\n",
       "    </tr>\n",
       "    <tr>\n",
       "      <th>2</th>\n",
       "      <td>2</td>\n",
       "      <td>Hummus, Dips, &amp; Salsa</td>\n",
       "      <td>Marketside Classic Hummus, 10 Oz</td>\n",
       "      <td>2.67</td>\n",
       "      <td>10</td>\n",
       "    </tr>\n",
       "    <tr>\n",
       "      <th>3</th>\n",
       "      <td>3</td>\n",
       "      <td>Hummus, Dips, &amp; Salsa</td>\n",
       "      <td>Marketside Everything Hummus, 10 oz</td>\n",
       "      <td>2.67</td>\n",
       "      <td>10</td>\n",
       "    </tr>\n",
       "    <tr>\n",
       "      <th>4</th>\n",
       "      <td>4</td>\n",
       "      <td>Hummus, Dips, &amp; Salsa</td>\n",
       "      <td>Price's Jalapeno Dip, 12 Oz.</td>\n",
       "      <td>3.12</td>\n",
       "      <td>12</td>\n",
       "    </tr>\n",
       "    <tr>\n",
       "      <th>...</th>\n",
       "      <td>...</td>\n",
       "      <td>...</td>\n",
       "      <td>...</td>\n",
       "      <td>...</td>\n",
       "      <td>...</td>\n",
       "    </tr>\n",
       "    <tr>\n",
       "      <th>995</th>\n",
       "      <td>995</td>\n",
       "      <td>Healthy Snacks</td>\n",
       "      <td>Great Value Pine Nuts, 4 oz</td>\n",
       "      <td>6.92</td>\n",
       "      <td>4</td>\n",
       "    </tr>\n",
       "    <tr>\n",
       "      <th>996</th>\n",
       "      <td>996</td>\n",
       "      <td>Healthy Snacks</td>\n",
       "      <td>Wonderful Pistachios Roasted &amp; Salted, 1.5 Oz,...</td>\n",
       "      <td>6.94</td>\n",
       "      <td>1.5</td>\n",
       "    </tr>\n",
       "    <tr>\n",
       "      <th>997</th>\n",
       "      <td>997</td>\n",
       "      <td>Healthy Snacks</td>\n",
       "      <td>Power Up Mega Omega Trail Mix from Gourmet Nut...</td>\n",
       "      <td>5.28</td>\n",
       "      <td>14</td>\n",
       "    </tr>\n",
       "    <tr>\n",
       "      <th>998</th>\n",
       "      <td>998</td>\n",
       "      <td>Healthy Snacks</td>\n",
       "      <td>Blue Diamond Almonds, Whole Natural Raw Almond...</td>\n",
       "      <td>6.98</td>\n",
       "      <td>14</td>\n",
       "    </tr>\n",
       "    <tr>\n",
       "      <th>999</th>\n",
       "      <td>999</td>\n",
       "      <td>Healthy Snacks</td>\n",
       "      <td>Great Value Honey Roasted Peanuts, 34.5 oz, Jar</td>\n",
       "      <td>4.68</td>\n",
       "      <td>34.5</td>\n",
       "    </tr>\n",
       "  </tbody>\n",
       "</table>\n",
       "<p>1000 rows × 5 columns</p>\n",
       "</div>"
      ],
      "text/plain": [
       "     index               CATEGORY  \\\n",
       "0        0  Hummus, Dips, & Salsa   \n",
       "1        1  Hummus, Dips, & Salsa   \n",
       "2        2  Hummus, Dips, & Salsa   \n",
       "3        3  Hummus, Dips, & Salsa   \n",
       "4        4  Hummus, Dips, & Salsa   \n",
       "..     ...                    ...   \n",
       "995    995         Healthy Snacks   \n",
       "996    996         Healthy Snacks   \n",
       "997    997         Healthy Snacks   \n",
       "998    998         Healthy Snacks   \n",
       "999    999         Healthy Snacks   \n",
       "\n",
       "                                          PRODUCT_NAME  PRICE_CURRENT  \\\n",
       "0          Marketside Roasted Red Pepper Hummus, 10 Oz           2.67   \n",
       "1              Marketside Roasted Garlic Hummus, 10 Oz           2.67   \n",
       "2                     Marketside Classic Hummus, 10 Oz           2.67   \n",
       "3                  Marketside Everything Hummus, 10 oz           2.67   \n",
       "4                         Price's Jalapeno Dip, 12 Oz.           3.12   \n",
       "..                                                 ...            ...   \n",
       "995                        Great Value Pine Nuts, 4 oz           6.92   \n",
       "996  Wonderful Pistachios Roasted & Salted, 1.5 Oz,...           6.94   \n",
       "997  Power Up Mega Omega Trail Mix from Gourmet Nut...           5.28   \n",
       "998  Blue Diamond Almonds, Whole Natural Raw Almond...           6.98   \n",
       "999    Great Value Honey Roasted Peanuts, 34.5 oz, Jar           4.68   \n",
       "\n",
       "    PRODUCT_SIZE  \n",
       "0             10  \n",
       "1             10  \n",
       "2             10  \n",
       "3             10  \n",
       "4             12  \n",
       "..           ...  \n",
       "995            4  \n",
       "996          1.5  \n",
       "997           14  \n",
       "998           14  \n",
       "999         34.5  \n",
       "\n",
       "[1000 rows x 5 columns]"
      ]
     },
     "execution_count": 4,
     "metadata": {},
     "output_type": "execute_result"
    }
   ],
   "source": [
    "data"
   ]
  },
  {
   "cell_type": "code",
   "execution_count": 5,
   "metadata": {},
   "outputs": [],
   "source": [
    "data = data.rename(columns={\"index\": \"id\", \"CATEGORY\": \"jenis_barang_id\", \"PRODUCT_NAME\": \"nama\", \"PRICE_CURRENT\": \"harga\", \"PRODUCT_SIZE\": \"jumlah_stok\"})"
   ]
  },
  {
   "cell_type": "code",
   "execution_count": 6,
   "metadata": {},
   "outputs": [],
   "source": [
    "category = pd.DataFrame(set(data[\"jenis_barang_id\"]))"
   ]
  },
  {
   "cell_type": "code",
   "execution_count": 7,
   "metadata": {},
   "outputs": [],
   "source": [
    "category = category.reset_index().rename(columns={0: \"kategori\", \"index\":\"id\"})"
   ]
  },
  {
   "cell_type": "code",
   "execution_count": 8,
   "metadata": {},
   "outputs": [
    {
     "data": {
      "text/html": [
       "<div>\n",
       "<style scoped>\n",
       "    .dataframe tbody tr th:only-of-type {\n",
       "        vertical-align: middle;\n",
       "    }\n",
       "\n",
       "    .dataframe tbody tr th {\n",
       "        vertical-align: top;\n",
       "    }\n",
       "\n",
       "    .dataframe thead th {\n",
       "        text-align: right;\n",
       "    }\n",
       "</style>\n",
       "<table border=\"1\" class=\"dataframe\">\n",
       "  <thead>\n",
       "    <tr style=\"text-align: right;\">\n",
       "      <th></th>\n",
       "      <th>id</th>\n",
       "      <th>kategori</th>\n",
       "    </tr>\n",
       "  </thead>\n",
       "  <tbody>\n",
       "    <tr>\n",
       "      <th>0</th>\n",
       "      <td>0</td>\n",
       "      <td>Pudding &amp; Gelatin</td>\n",
       "    </tr>\n",
       "    <tr>\n",
       "      <th>1</th>\n",
       "      <td>1</td>\n",
       "      <td>Healthy Snacks</td>\n",
       "    </tr>\n",
       "    <tr>\n",
       "      <th>2</th>\n",
       "      <td>2</td>\n",
       "      <td>Hummus, Dips, &amp; Salsa</td>\n",
       "    </tr>\n",
       "    <tr>\n",
       "      <th>3</th>\n",
       "      <td>3</td>\n",
       "      <td>Better for you</td>\n",
       "    </tr>\n",
       "    <tr>\n",
       "      <th>4</th>\n",
       "      <td>4</td>\n",
       "      <td>Game Time Faves</td>\n",
       "    </tr>\n",
       "    <tr>\n",
       "      <th>5</th>\n",
       "      <td>5</td>\n",
       "      <td>Oils &amp; Shortening</td>\n",
       "    </tr>\n",
       "    <tr>\n",
       "      <th>6</th>\n",
       "      <td>6</td>\n",
       "      <td>Energy Drinks</td>\n",
       "    </tr>\n",
       "    <tr>\n",
       "      <th>7</th>\n",
       "      <td>7</td>\n",
       "      <td>Fresh Soups &amp; Salads</td>\n",
       "    </tr>\n",
       "    <tr>\n",
       "      <th>8</th>\n",
       "      <td>8</td>\n",
       "      <td>Sparkling Water</td>\n",
       "    </tr>\n",
       "  </tbody>\n",
       "</table>\n",
       "</div>"
      ],
      "text/plain": [
       "   id               kategori\n",
       "0   0      Pudding & Gelatin\n",
       "1   1         Healthy Snacks\n",
       "2   2  Hummus, Dips, & Salsa\n",
       "3   3         Better for you\n",
       "4   4        Game Time Faves\n",
       "5   5      Oils & Shortening\n",
       "6   6          Energy Drinks\n",
       "7   7   Fresh Soups & Salads\n",
       "8   8        Sparkling Water"
      ]
     },
     "execution_count": 8,
     "metadata": {},
     "output_type": "execute_result"
    }
   ],
   "source": [
    "category"
   ]
  },
  {
   "cell_type": "code",
   "execution_count": 9,
   "metadata": {},
   "outputs": [],
   "source": [
    "def addOneId(row):\n",
    "    return row[\"id\"] + 1\n",
    "\n",
    "category[\"id\"] = category.apply(addOneId, axis=1)"
   ]
  },
  {
   "cell_type": "code",
   "execution_count": 10,
   "metadata": {},
   "outputs": [],
   "source": [
    "category.to_csv(\"kategori.csv\", index=False)"
   ]
  },
  {
   "cell_type": "code",
   "execution_count": 11,
   "metadata": {},
   "outputs": [
    {
     "data": {
      "text/html": [
       "<div>\n",
       "<style scoped>\n",
       "    .dataframe tbody tr th:only-of-type {\n",
       "        vertical-align: middle;\n",
       "    }\n",
       "\n",
       "    .dataframe tbody tr th {\n",
       "        vertical-align: top;\n",
       "    }\n",
       "\n",
       "    .dataframe thead th {\n",
       "        text-align: right;\n",
       "    }\n",
       "</style>\n",
       "<table border=\"1\" class=\"dataframe\">\n",
       "  <thead>\n",
       "    <tr style=\"text-align: right;\">\n",
       "      <th></th>\n",
       "      <th>id</th>\n",
       "      <th>jenis_barang_id</th>\n",
       "      <th>nama</th>\n",
       "      <th>harga</th>\n",
       "      <th>jumlah_stok</th>\n",
       "    </tr>\n",
       "  </thead>\n",
       "  <tbody>\n",
       "    <tr>\n",
       "      <th>0</th>\n",
       "      <td>0</td>\n",
       "      <td>Hummus, Dips, &amp; Salsa</td>\n",
       "      <td>Marketside Roasted Red Pepper Hummus, 10 Oz</td>\n",
       "      <td>2.67</td>\n",
       "      <td>10</td>\n",
       "    </tr>\n",
       "    <tr>\n",
       "      <th>1</th>\n",
       "      <td>1</td>\n",
       "      <td>Hummus, Dips, &amp; Salsa</td>\n",
       "      <td>Marketside Roasted Garlic Hummus, 10 Oz</td>\n",
       "      <td>2.67</td>\n",
       "      <td>10</td>\n",
       "    </tr>\n",
       "    <tr>\n",
       "      <th>2</th>\n",
       "      <td>2</td>\n",
       "      <td>Hummus, Dips, &amp; Salsa</td>\n",
       "      <td>Marketside Classic Hummus, 10 Oz</td>\n",
       "      <td>2.67</td>\n",
       "      <td>10</td>\n",
       "    </tr>\n",
       "    <tr>\n",
       "      <th>3</th>\n",
       "      <td>3</td>\n",
       "      <td>Hummus, Dips, &amp; Salsa</td>\n",
       "      <td>Marketside Everything Hummus, 10 oz</td>\n",
       "      <td>2.67</td>\n",
       "      <td>10</td>\n",
       "    </tr>\n",
       "    <tr>\n",
       "      <th>4</th>\n",
       "      <td>4</td>\n",
       "      <td>Hummus, Dips, &amp; Salsa</td>\n",
       "      <td>Price's Jalapeno Dip, 12 Oz.</td>\n",
       "      <td>3.12</td>\n",
       "      <td>12</td>\n",
       "    </tr>\n",
       "    <tr>\n",
       "      <th>...</th>\n",
       "      <td>...</td>\n",
       "      <td>...</td>\n",
       "      <td>...</td>\n",
       "      <td>...</td>\n",
       "      <td>...</td>\n",
       "    </tr>\n",
       "    <tr>\n",
       "      <th>995</th>\n",
       "      <td>995</td>\n",
       "      <td>Healthy Snacks</td>\n",
       "      <td>Great Value Pine Nuts, 4 oz</td>\n",
       "      <td>6.92</td>\n",
       "      <td>4</td>\n",
       "    </tr>\n",
       "    <tr>\n",
       "      <th>996</th>\n",
       "      <td>996</td>\n",
       "      <td>Healthy Snacks</td>\n",
       "      <td>Wonderful Pistachios Roasted &amp; Salted, 1.5 Oz,...</td>\n",
       "      <td>6.94</td>\n",
       "      <td>1.5</td>\n",
       "    </tr>\n",
       "    <tr>\n",
       "      <th>997</th>\n",
       "      <td>997</td>\n",
       "      <td>Healthy Snacks</td>\n",
       "      <td>Power Up Mega Omega Trail Mix from Gourmet Nut...</td>\n",
       "      <td>5.28</td>\n",
       "      <td>14</td>\n",
       "    </tr>\n",
       "    <tr>\n",
       "      <th>998</th>\n",
       "      <td>998</td>\n",
       "      <td>Healthy Snacks</td>\n",
       "      <td>Blue Diamond Almonds, Whole Natural Raw Almond...</td>\n",
       "      <td>6.98</td>\n",
       "      <td>14</td>\n",
       "    </tr>\n",
       "    <tr>\n",
       "      <th>999</th>\n",
       "      <td>999</td>\n",
       "      <td>Healthy Snacks</td>\n",
       "      <td>Great Value Honey Roasted Peanuts, 34.5 oz, Jar</td>\n",
       "      <td>4.68</td>\n",
       "      <td>34.5</td>\n",
       "    </tr>\n",
       "  </tbody>\n",
       "</table>\n",
       "<p>1000 rows × 5 columns</p>\n",
       "</div>"
      ],
      "text/plain": [
       "      id        jenis_barang_id  \\\n",
       "0      0  Hummus, Dips, & Salsa   \n",
       "1      1  Hummus, Dips, & Salsa   \n",
       "2      2  Hummus, Dips, & Salsa   \n",
       "3      3  Hummus, Dips, & Salsa   \n",
       "4      4  Hummus, Dips, & Salsa   \n",
       "..   ...                    ...   \n",
       "995  995         Healthy Snacks   \n",
       "996  996         Healthy Snacks   \n",
       "997  997         Healthy Snacks   \n",
       "998  998         Healthy Snacks   \n",
       "999  999         Healthy Snacks   \n",
       "\n",
       "                                                  nama  harga jumlah_stok  \n",
       "0          Marketside Roasted Red Pepper Hummus, 10 Oz   2.67          10  \n",
       "1              Marketside Roasted Garlic Hummus, 10 Oz   2.67          10  \n",
       "2                     Marketside Classic Hummus, 10 Oz   2.67          10  \n",
       "3                  Marketside Everything Hummus, 10 oz   2.67          10  \n",
       "4                         Price's Jalapeno Dip, 12 Oz.   3.12          12  \n",
       "..                                                 ...    ...         ...  \n",
       "995                        Great Value Pine Nuts, 4 oz   6.92           4  \n",
       "996  Wonderful Pistachios Roasted & Salted, 1.5 Oz,...   6.94         1.5  \n",
       "997  Power Up Mega Omega Trail Mix from Gourmet Nut...   5.28          14  \n",
       "998  Blue Diamond Almonds, Whole Natural Raw Almond...   6.98          14  \n",
       "999    Great Value Honey Roasted Peanuts, 34.5 oz, Jar   4.68        34.5  \n",
       "\n",
       "[1000 rows x 5 columns]"
      ]
     },
     "execution_count": 11,
     "metadata": {},
     "output_type": "execute_result"
    }
   ],
   "source": [
    "data"
   ]
  },
  {
   "cell_type": "code",
   "execution_count": 12,
   "metadata": {},
   "outputs": [],
   "source": [
    "def tansformData(row):\n",
    "    row['harga'] = row['harga'] * 10000\n",
    "    row['id'] = row['id'] + 1\n",
    "\n",
    "    return row\n",
    "\n",
    "data = data.apply(tansformData, axis=1)"
   ]
  },
  {
   "cell_type": "code",
   "execution_count": 13,
   "metadata": {},
   "outputs": [],
   "source": [
    "data[\"harga\"] = data[\"harga\"].astype(int)"
   ]
  },
  {
   "cell_type": "code",
   "execution_count": 46,
   "metadata": {},
   "outputs": [
    {
     "name": "stdout",
     "output_type": "stream",
     "text": [
      "<class 'pandas.core.frame.DataFrame'>\n",
      "RangeIndex: 114 entries, 0 to 113\n",
      "Data columns (total 2 columns):\n",
      " #   Column    Non-Null Count  Dtype \n",
      "---  ------    --------------  ----- \n",
      " 0   id        114 non-null    int64 \n",
      " 1   kategori  114 non-null    object\n",
      "dtypes: int64(1), object(1)\n",
      "memory usage: 1.9+ KB\n"
     ]
    }
   ],
   "source": [
    "category.info()"
   ]
  },
  {
   "cell_type": "code",
   "execution_count": 14,
   "metadata": {},
   "outputs": [],
   "source": [
    "category = category.to_dict(\"records\")\n",
    "def changeCategory(row):\n",
    "\n",
    "    for cat in category:\n",
    "        if row[\"jenis_barang_id\"] == cat[\"kategori\"]:\n",
    "            row[\"jenis_barang_id\"] = str(cat[\"id\"])\n",
    "            break\n",
    "    \n",
    "    return row\n",
    "\n",
    "data = data.apply(changeCategory, axis=1)"
   ]
  },
  {
   "cell_type": "code",
   "execution_count": 18,
   "metadata": {},
   "outputs": [],
   "source": [
    "data.to_csv(\"barang.csv\", index=False)"
   ]
  },
  {
   "cell_type": "code",
   "execution_count": null,
   "metadata": {},
   "outputs": [],
   "source": []
  },
  {
   "attachments": {},
   "cell_type": "markdown",
   "metadata": {},
   "source": [
    "##### Insert to SQL"
   ]
  },
  {
   "cell_type": "code",
   "execution_count": 21,
   "metadata": {},
   "outputs": [],
   "source": [
    "kategori = pd.read_csv(\"kategori.csv\")"
   ]
  },
  {
   "cell_type": "code",
   "execution_count": 16,
   "metadata": {},
   "outputs": [
    {
     "data": {
      "text/html": [
       "<div>\n",
       "<style scoped>\n",
       "    .dataframe tbody tr th:only-of-type {\n",
       "        vertical-align: middle;\n",
       "    }\n",
       "\n",
       "    .dataframe tbody tr th {\n",
       "        vertical-align: top;\n",
       "    }\n",
       "\n",
       "    .dataframe thead th {\n",
       "        text-align: right;\n",
       "    }\n",
       "</style>\n",
       "<table border=\"1\" class=\"dataframe\">\n",
       "  <thead>\n",
       "    <tr style=\"text-align: right;\">\n",
       "      <th></th>\n",
       "      <th>id</th>\n",
       "      <th>kategori</th>\n",
       "    </tr>\n",
       "  </thead>\n",
       "  <tbody>\n",
       "    <tr>\n",
       "      <th>0</th>\n",
       "      <td>1</td>\n",
       "      <td>Pudding &amp; Gelatin</td>\n",
       "    </tr>\n",
       "    <tr>\n",
       "      <th>1</th>\n",
       "      <td>2</td>\n",
       "      <td>Healthy Snacks</td>\n",
       "    </tr>\n",
       "    <tr>\n",
       "      <th>2</th>\n",
       "      <td>3</td>\n",
       "      <td>Hummus, Dips, &amp; Salsa</td>\n",
       "    </tr>\n",
       "    <tr>\n",
       "      <th>3</th>\n",
       "      <td>4</td>\n",
       "      <td>Better for you</td>\n",
       "    </tr>\n",
       "    <tr>\n",
       "      <th>4</th>\n",
       "      <td>5</td>\n",
       "      <td>Game Time Faves</td>\n",
       "    </tr>\n",
       "    <tr>\n",
       "      <th>5</th>\n",
       "      <td>6</td>\n",
       "      <td>Oils &amp; Shortening</td>\n",
       "    </tr>\n",
       "    <tr>\n",
       "      <th>6</th>\n",
       "      <td>7</td>\n",
       "      <td>Energy Drinks</td>\n",
       "    </tr>\n",
       "    <tr>\n",
       "      <th>7</th>\n",
       "      <td>8</td>\n",
       "      <td>Fresh Soups &amp; Salads</td>\n",
       "    </tr>\n",
       "    <tr>\n",
       "      <th>8</th>\n",
       "      <td>9</td>\n",
       "      <td>Sparkling Water</td>\n",
       "    </tr>\n",
       "  </tbody>\n",
       "</table>\n",
       "</div>"
      ],
      "text/plain": [
       "   id               kategori\n",
       "0   1      Pudding & Gelatin\n",
       "1   2         Healthy Snacks\n",
       "2   3  Hummus, Dips, & Salsa\n",
       "3   4         Better for you\n",
       "4   5        Game Time Faves\n",
       "5   6      Oils & Shortening\n",
       "6   7          Energy Drinks\n",
       "7   8   Fresh Soups & Salads\n",
       "8   9        Sparkling Water"
      ]
     },
     "execution_count": 16,
     "metadata": {},
     "output_type": "execute_result"
    }
   ],
   "source": [
    "kategori"
   ]
  },
  {
   "cell_type": "code",
   "execution_count": 22,
   "metadata": {},
   "outputs": [
    {
     "data": {
      "text/plain": [
       "0    None\n",
       "1    None\n",
       "2    None\n",
       "3    None\n",
       "4    None\n",
       "5    None\n",
       "6    None\n",
       "7    None\n",
       "8    None\n",
       "dtype: object"
      ]
     },
     "execution_count": 22,
     "metadata": {},
     "output_type": "execute_result"
    }
   ],
   "source": [
    "import requests\n",
    "\n",
    "url = \"http://localhost:3000/jenis-barang\"\n",
    "\n",
    "def reqInsert(row):\n",
    "    myobj = {\n",
    "        \"id\": row[\"id\"],\n",
    "        \"kategori\": row[\"kategori\"]\n",
    "    }\n",
    "\n",
    "    requests.post(url, json = myobj)\n",
    "\n",
    "kategori.apply(reqInsert, axis=1)"
   ]
  },
  {
   "cell_type": "code",
   "execution_count": 19,
   "metadata": {},
   "outputs": [],
   "source": [
    "produk = pd.read_csv(\"barang.csv\")\n",
    "\n",
    "produk.dropna(inplace=True)\n",
    "\n",
    "produk.to_csv(\"barang.csv\", index=False)"
   ]
  },
  {
   "cell_type": "code",
   "execution_count": 20,
   "metadata": {},
   "outputs": [
    {
     "name": "stderr",
     "output_type": "stream",
     "text": [
      "/Library/Frameworks/Python.framework/Versions/3.11/lib/python3.11/site-packages/tqdm/auto.py:21: TqdmWarning: IProgress not found. Please update jupyter and ipywidgets. See https://ipywidgets.readthedocs.io/en/stable/user_install.html\n",
      "  from .autonotebook import tqdm as notebook_tqdm\n",
      "100%|██████████| 951/951 [00:02<00:00, 451.17it/s]\n"
     ]
    },
    {
     "data": {
      "text/plain": [
       "0      None\n",
       "1      None\n",
       "2      None\n",
       "3      None\n",
       "4      None\n",
       "       ... \n",
       "995    None\n",
       "996    None\n",
       "997    None\n",
       "998    None\n",
       "999    None\n",
       "Length: 951, dtype: object"
      ]
     },
     "execution_count": 20,
     "metadata": {},
     "output_type": "execute_result"
    }
   ],
   "source": [
    "import requests\n",
    "import math\n",
    "from tqdm.auto import tqdm\n",
    "\n",
    "tqdm.pandas()\n",
    "url = \"http://localhost:3000/barang\"\n",
    "\n",
    "def reqInsert(row):\n",
    "    try:\n",
    "        float(row[\"jumlah_stok\"])\n",
    "    except:\n",
    "        row[\"jumlah_stok\"] = \"0\"\n",
    "\n",
    "    myobj = {\n",
    "        \"id\": row[\"id\"],\n",
    "        \"nama\": row[\"nama\"],\n",
    "        \"harga\": row[\"harga\"],\n",
    "        \"jumlah_stok\": int(math.floor(float(row[\"jumlah_stok\"]))),\n",
    "        \"jenis_barang_id\": row[\"jenis_barang_id\"]\n",
    "    }\n",
    "\n",
    "    requests.post(url, json = myobj)\n",
    "\n",
    "produk.progress_apply(reqInsert, axis=1)"
   ]
  },
  {
   "cell_type": "code",
   "execution_count": null,
   "metadata": {},
   "outputs": [],
   "source": []
  }
 ],
 "metadata": {
  "kernelspec": {
   "display_name": "Python 3",
   "language": "python",
   "name": "python3"
  },
  "language_info": {
   "codemirror_mode": {
    "name": "ipython",
    "version": 3
   },
   "file_extension": ".py",
   "mimetype": "text/x-python",
   "name": "python",
   "nbconvert_exporter": "python",
   "pygments_lexer": "ipython3",
   "version": "3.11.3"
  },
  "orig_nbformat": 4
 },
 "nbformat": 4,
 "nbformat_minor": 2
}
